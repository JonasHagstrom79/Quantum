{
  "nbformat": 4,
  "nbformat_minor": 0,
  "metadata": {
    "colab": {
      "provenance": [],
      "gpuType": "T4",
      "authorship_tag": "ABX9TyMoxBxPHhxrqojXW+CNHLCD"
    },
    "kernelspec": {
      "name": "python3",
      "display_name": "Python 3"
    },
    "language_info": {
      "name": "python"
    },
    "accelerator": "GPU"
  },
  "cells": [
    {
      "cell_type": "code",
      "source": [
        "# Install the Qiskit and ipywidgets packages\n",
        "!pip install qiskit ipywidgets"
      ],
      "metadata": {
        "colab": {
          "base_uri": "https://localhost:8080/"
        },
        "id": "OKdX4aHWIhw_",
        "outputId": "e772a37b-f0fd-4b45-fe6d-754f792f6caf"
      },
      "execution_count": 1,
      "outputs": [
        {
          "output_type": "stream",
          "name": "stdout",
          "text": [
            "Collecting qiskit\n",
            "  Downloading qiskit-1.0.1-cp38-abi3-manylinux_2_17_x86_64.manylinux2014_x86_64.whl (5.6 MB)\n",
            "\u001b[2K     \u001b[90m━━━━━━━━━━━━━━━━━━━━━━━━━━━━━━━━━━━━━━━━\u001b[0m \u001b[32m5.6/5.6 MB\u001b[0m \u001b[31m20.0 MB/s\u001b[0m eta \u001b[36m0:00:00\u001b[0m\n",
            "\u001b[?25hRequirement already satisfied: ipywidgets in /usr/local/lib/python3.10/dist-packages (7.7.1)\n",
            "Collecting rustworkx>=0.14.0 (from qiskit)\n",
            "  Downloading rustworkx-0.14.1-cp310-cp310-manylinux_2_17_x86_64.manylinux2014_x86_64.whl (2.1 MB)\n",
            "\u001b[2K     \u001b[90m━━━━━━━━━━━━━━━━━━━━━━━━━━━━━━━━━━━━━━━━\u001b[0m \u001b[32m2.1/2.1 MB\u001b[0m \u001b[31m37.0 MB/s\u001b[0m eta \u001b[36m0:00:00\u001b[0m\n",
            "\u001b[?25hRequirement already satisfied: numpy<2,>=1.17 in /usr/local/lib/python3.10/dist-packages (from qiskit) (1.25.2)\n",
            "Requirement already satisfied: scipy>=1.5 in /usr/local/lib/python3.10/dist-packages (from qiskit) (1.11.4)\n",
            "Requirement already satisfied: sympy>=1.3 in /usr/local/lib/python3.10/dist-packages (from qiskit) (1.12)\n",
            "Collecting dill>=0.3 (from qiskit)\n",
            "  Downloading dill-0.3.8-py3-none-any.whl (116 kB)\n",
            "\u001b[2K     \u001b[90m━━━━━━━━━━━━━━━━━━━━━━━━━━━━━━━━━━━━━━━━\u001b[0m \u001b[32m116.3/116.3 kB\u001b[0m \u001b[31m16.4 MB/s\u001b[0m eta \u001b[36m0:00:00\u001b[0m\n",
            "\u001b[?25hRequirement already satisfied: python-dateutil>=2.8.0 in /usr/local/lib/python3.10/dist-packages (from qiskit) (2.8.2)\n",
            "Collecting stevedore>=3.0.0 (from qiskit)\n",
            "  Downloading stevedore-5.2.0-py3-none-any.whl (49 kB)\n",
            "\u001b[2K     \u001b[90m━━━━━━━━━━━━━━━━━━━━━━━━━━━━━━━━━━━━━━━━\u001b[0m \u001b[32m49.7/49.7 kB\u001b[0m \u001b[31m6.9 MB/s\u001b[0m eta \u001b[36m0:00:00\u001b[0m\n",
            "\u001b[?25hRequirement already satisfied: typing-extensions in /usr/local/lib/python3.10/dist-packages (from qiskit) (4.10.0)\n",
            "Collecting symengine>=0.11 (from qiskit)\n",
            "  Downloading symengine-0.11.0-cp310-cp310-manylinux_2_12_x86_64.manylinux2010_x86_64.whl (39.4 MB)\n",
            "\u001b[2K     \u001b[90m━━━━━━━━━━━━━━━━━━━━━━━━━━━━━━━━━━━━━━━━\u001b[0m \u001b[32m39.4/39.4 MB\u001b[0m \u001b[31m17.7 MB/s\u001b[0m eta \u001b[36m0:00:00\u001b[0m\n",
            "\u001b[?25hRequirement already satisfied: ipykernel>=4.5.1 in /usr/local/lib/python3.10/dist-packages (from ipywidgets) (5.5.6)\n",
            "Requirement already satisfied: ipython-genutils~=0.2.0 in /usr/local/lib/python3.10/dist-packages (from ipywidgets) (0.2.0)\n",
            "Requirement already satisfied: traitlets>=4.3.1 in /usr/local/lib/python3.10/dist-packages (from ipywidgets) (5.7.1)\n",
            "Requirement already satisfied: widgetsnbextension~=3.6.0 in /usr/local/lib/python3.10/dist-packages (from ipywidgets) (3.6.6)\n",
            "Requirement already satisfied: ipython>=4.0.0 in /usr/local/lib/python3.10/dist-packages (from ipywidgets) (7.34.0)\n",
            "Requirement already satisfied: jupyterlab-widgets>=1.0.0 in /usr/local/lib/python3.10/dist-packages (from ipywidgets) (3.0.10)\n",
            "Requirement already satisfied: jupyter-client in /usr/local/lib/python3.10/dist-packages (from ipykernel>=4.5.1->ipywidgets) (6.1.12)\n",
            "Requirement already satisfied: tornado>=4.2 in /usr/local/lib/python3.10/dist-packages (from ipykernel>=4.5.1->ipywidgets) (6.3.3)\n",
            "Requirement already satisfied: setuptools>=18.5 in /usr/local/lib/python3.10/dist-packages (from ipython>=4.0.0->ipywidgets) (67.7.2)\n",
            "Collecting jedi>=0.16 (from ipython>=4.0.0->ipywidgets)\n",
            "  Downloading jedi-0.19.1-py2.py3-none-any.whl (1.6 MB)\n",
            "\u001b[2K     \u001b[90m━━━━━━━━━━━━━━━━━━━━━━━━━━━━━━━━━━━━━━━━\u001b[0m \u001b[32m1.6/1.6 MB\u001b[0m \u001b[31m75.2 MB/s\u001b[0m eta \u001b[36m0:00:00\u001b[0m\n",
            "\u001b[?25hRequirement already satisfied: decorator in /usr/local/lib/python3.10/dist-packages (from ipython>=4.0.0->ipywidgets) (4.4.2)\n",
            "Requirement already satisfied: pickleshare in /usr/local/lib/python3.10/dist-packages (from ipython>=4.0.0->ipywidgets) (0.7.5)\n",
            "Requirement already satisfied: prompt-toolkit!=3.0.0,!=3.0.1,<3.1.0,>=2.0.0 in /usr/local/lib/python3.10/dist-packages (from ipython>=4.0.0->ipywidgets) (3.0.43)\n",
            "Requirement already satisfied: pygments in /usr/local/lib/python3.10/dist-packages (from ipython>=4.0.0->ipywidgets) (2.16.1)\n",
            "Requirement already satisfied: backcall in /usr/local/lib/python3.10/dist-packages (from ipython>=4.0.0->ipywidgets) (0.2.0)\n",
            "Requirement already satisfied: matplotlib-inline in /usr/local/lib/python3.10/dist-packages (from ipython>=4.0.0->ipywidgets) (0.1.6)\n",
            "Requirement already satisfied: pexpect>4.3 in /usr/local/lib/python3.10/dist-packages (from ipython>=4.0.0->ipywidgets) (4.9.0)\n",
            "Requirement already satisfied: six>=1.5 in /usr/local/lib/python3.10/dist-packages (from python-dateutil>=2.8.0->qiskit) (1.16.0)\n",
            "Collecting pbr!=2.1.0,>=2.0.0 (from stevedore>=3.0.0->qiskit)\n",
            "  Downloading pbr-6.0.0-py2.py3-none-any.whl (107 kB)\n",
            "\u001b[2K     \u001b[90m━━━━━━━━━━━━━━━━━━━━━━━━━━━━━━━━━━━━━━━━\u001b[0m \u001b[32m107.5/107.5 kB\u001b[0m \u001b[31m16.0 MB/s\u001b[0m eta \u001b[36m0:00:00\u001b[0m\n",
            "\u001b[?25hRequirement already satisfied: mpmath>=0.19 in /usr/local/lib/python3.10/dist-packages (from sympy>=1.3->qiskit) (1.3.0)\n",
            "Requirement already satisfied: notebook>=4.4.1 in /usr/local/lib/python3.10/dist-packages (from widgetsnbextension~=3.6.0->ipywidgets) (6.5.5)\n",
            "Requirement already satisfied: parso<0.9.0,>=0.8.3 in /usr/local/lib/python3.10/dist-packages (from jedi>=0.16->ipython>=4.0.0->ipywidgets) (0.8.3)\n",
            "Requirement already satisfied: jinja2 in /usr/local/lib/python3.10/dist-packages (from notebook>=4.4.1->widgetsnbextension~=3.6.0->ipywidgets) (3.1.3)\n",
            "Requirement already satisfied: pyzmq<25,>=17 in /usr/local/lib/python3.10/dist-packages (from notebook>=4.4.1->widgetsnbextension~=3.6.0->ipywidgets) (23.2.1)\n",
            "Requirement already satisfied: argon2-cffi in /usr/local/lib/python3.10/dist-packages (from notebook>=4.4.1->widgetsnbextension~=3.6.0->ipywidgets) (23.1.0)\n",
            "Requirement already satisfied: jupyter-core>=4.6.1 in /usr/local/lib/python3.10/dist-packages (from notebook>=4.4.1->widgetsnbextension~=3.6.0->ipywidgets) (5.7.1)\n",
            "Requirement already satisfied: nbformat in /usr/local/lib/python3.10/dist-packages (from notebook>=4.4.1->widgetsnbextension~=3.6.0->ipywidgets) (5.9.2)\n",
            "Requirement already satisfied: nbconvert>=5 in /usr/local/lib/python3.10/dist-packages (from notebook>=4.4.1->widgetsnbextension~=3.6.0->ipywidgets) (6.5.4)\n",
            "Requirement already satisfied: nest-asyncio>=1.5 in /usr/local/lib/python3.10/dist-packages (from notebook>=4.4.1->widgetsnbextension~=3.6.0->ipywidgets) (1.6.0)\n",
            "Requirement already satisfied: Send2Trash>=1.8.0 in /usr/local/lib/python3.10/dist-packages (from notebook>=4.4.1->widgetsnbextension~=3.6.0->ipywidgets) (1.8.2)\n",
            "Requirement already satisfied: terminado>=0.8.3 in /usr/local/lib/python3.10/dist-packages (from notebook>=4.4.1->widgetsnbextension~=3.6.0->ipywidgets) (0.18.0)\n",
            "Requirement already satisfied: prometheus-client in /usr/local/lib/python3.10/dist-packages (from notebook>=4.4.1->widgetsnbextension~=3.6.0->ipywidgets) (0.20.0)\n",
            "Requirement already satisfied: nbclassic>=0.4.7 in /usr/local/lib/python3.10/dist-packages (from notebook>=4.4.1->widgetsnbextension~=3.6.0->ipywidgets) (1.0.0)\n",
            "Requirement already satisfied: ptyprocess>=0.5 in /usr/local/lib/python3.10/dist-packages (from pexpect>4.3->ipython>=4.0.0->ipywidgets) (0.7.0)\n",
            "Requirement already satisfied: wcwidth in /usr/local/lib/python3.10/dist-packages (from prompt-toolkit!=3.0.0,!=3.0.1,<3.1.0,>=2.0.0->ipython>=4.0.0->ipywidgets) (0.2.13)\n",
            "Requirement already satisfied: platformdirs>=2.5 in /usr/local/lib/python3.10/dist-packages (from jupyter-core>=4.6.1->notebook>=4.4.1->widgetsnbextension~=3.6.0->ipywidgets) (4.2.0)\n",
            "Requirement already satisfied: jupyter-server>=1.8 in /usr/local/lib/python3.10/dist-packages (from nbclassic>=0.4.7->notebook>=4.4.1->widgetsnbextension~=3.6.0->ipywidgets) (1.24.0)\n",
            "Requirement already satisfied: notebook-shim>=0.2.3 in /usr/local/lib/python3.10/dist-packages (from nbclassic>=0.4.7->notebook>=4.4.1->widgetsnbextension~=3.6.0->ipywidgets) (0.2.4)\n",
            "Requirement already satisfied: lxml in /usr/local/lib/python3.10/dist-packages (from nbconvert>=5->notebook>=4.4.1->widgetsnbextension~=3.6.0->ipywidgets) (4.9.4)\n",
            "Requirement already satisfied: beautifulsoup4 in /usr/local/lib/python3.10/dist-packages (from nbconvert>=5->notebook>=4.4.1->widgetsnbextension~=3.6.0->ipywidgets) (4.12.3)\n",
            "Requirement already satisfied: bleach in /usr/local/lib/python3.10/dist-packages (from nbconvert>=5->notebook>=4.4.1->widgetsnbextension~=3.6.0->ipywidgets) (6.1.0)\n",
            "Requirement already satisfied: defusedxml in /usr/local/lib/python3.10/dist-packages (from nbconvert>=5->notebook>=4.4.1->widgetsnbextension~=3.6.0->ipywidgets) (0.7.1)\n",
            "Requirement already satisfied: entrypoints>=0.2.2 in /usr/local/lib/python3.10/dist-packages (from nbconvert>=5->notebook>=4.4.1->widgetsnbextension~=3.6.0->ipywidgets) (0.4)\n",
            "Requirement already satisfied: jupyterlab-pygments in /usr/local/lib/python3.10/dist-packages (from nbconvert>=5->notebook>=4.4.1->widgetsnbextension~=3.6.0->ipywidgets) (0.3.0)\n",
            "Requirement already satisfied: MarkupSafe>=2.0 in /usr/local/lib/python3.10/dist-packages (from nbconvert>=5->notebook>=4.4.1->widgetsnbextension~=3.6.0->ipywidgets) (2.1.5)\n",
            "Requirement already satisfied: mistune<2,>=0.8.1 in /usr/local/lib/python3.10/dist-packages (from nbconvert>=5->notebook>=4.4.1->widgetsnbextension~=3.6.0->ipywidgets) (0.8.4)\n",
            "Requirement already satisfied: nbclient>=0.5.0 in /usr/local/lib/python3.10/dist-packages (from nbconvert>=5->notebook>=4.4.1->widgetsnbextension~=3.6.0->ipywidgets) (0.9.0)\n",
            "Requirement already satisfied: packaging in /usr/local/lib/python3.10/dist-packages (from nbconvert>=5->notebook>=4.4.1->widgetsnbextension~=3.6.0->ipywidgets) (23.2)\n",
            "Requirement already satisfied: pandocfilters>=1.4.1 in /usr/local/lib/python3.10/dist-packages (from nbconvert>=5->notebook>=4.4.1->widgetsnbextension~=3.6.0->ipywidgets) (1.5.1)\n",
            "Requirement already satisfied: tinycss2 in /usr/local/lib/python3.10/dist-packages (from nbconvert>=5->notebook>=4.4.1->widgetsnbextension~=3.6.0->ipywidgets) (1.2.1)\n",
            "Requirement already satisfied: fastjsonschema in /usr/local/lib/python3.10/dist-packages (from nbformat->notebook>=4.4.1->widgetsnbextension~=3.6.0->ipywidgets) (2.19.1)\n",
            "Requirement already satisfied: jsonschema>=2.6 in /usr/local/lib/python3.10/dist-packages (from nbformat->notebook>=4.4.1->widgetsnbextension~=3.6.0->ipywidgets) (4.19.2)\n",
            "Requirement already satisfied: argon2-cffi-bindings in /usr/local/lib/python3.10/dist-packages (from argon2-cffi->notebook>=4.4.1->widgetsnbextension~=3.6.0->ipywidgets) (21.2.0)\n",
            "Requirement already satisfied: attrs>=22.2.0 in /usr/local/lib/python3.10/dist-packages (from jsonschema>=2.6->nbformat->notebook>=4.4.1->widgetsnbextension~=3.6.0->ipywidgets) (23.2.0)\n",
            "Requirement already satisfied: jsonschema-specifications>=2023.03.6 in /usr/local/lib/python3.10/dist-packages (from jsonschema>=2.6->nbformat->notebook>=4.4.1->widgetsnbextension~=3.6.0->ipywidgets) (2023.12.1)\n",
            "Requirement already satisfied: referencing>=0.28.4 in /usr/local/lib/python3.10/dist-packages (from jsonschema>=2.6->nbformat->notebook>=4.4.1->widgetsnbextension~=3.6.0->ipywidgets) (0.33.0)\n",
            "Requirement already satisfied: rpds-py>=0.7.1 in /usr/local/lib/python3.10/dist-packages (from jsonschema>=2.6->nbformat->notebook>=4.4.1->widgetsnbextension~=3.6.0->ipywidgets) (0.18.0)\n",
            "Requirement already satisfied: anyio<4,>=3.1.0 in /usr/local/lib/python3.10/dist-packages (from jupyter-server>=1.8->nbclassic>=0.4.7->notebook>=4.4.1->widgetsnbextension~=3.6.0->ipywidgets) (3.7.1)\n",
            "Requirement already satisfied: websocket-client in /usr/local/lib/python3.10/dist-packages (from jupyter-server>=1.8->nbclassic>=0.4.7->notebook>=4.4.1->widgetsnbextension~=3.6.0->ipywidgets) (1.7.0)\n",
            "Requirement already satisfied: cffi>=1.0.1 in /usr/local/lib/python3.10/dist-packages (from argon2-cffi-bindings->argon2-cffi->notebook>=4.4.1->widgetsnbextension~=3.6.0->ipywidgets) (1.16.0)\n",
            "Requirement already satisfied: soupsieve>1.2 in /usr/local/lib/python3.10/dist-packages (from beautifulsoup4->nbconvert>=5->notebook>=4.4.1->widgetsnbextension~=3.6.0->ipywidgets) (2.5)\n",
            "Requirement already satisfied: webencodings in /usr/local/lib/python3.10/dist-packages (from bleach->nbconvert>=5->notebook>=4.4.1->widgetsnbextension~=3.6.0->ipywidgets) (0.5.1)\n",
            "Requirement already satisfied: idna>=2.8 in /usr/local/lib/python3.10/dist-packages (from anyio<4,>=3.1.0->jupyter-server>=1.8->nbclassic>=0.4.7->notebook>=4.4.1->widgetsnbextension~=3.6.0->ipywidgets) (3.6)\n",
            "Requirement already satisfied: sniffio>=1.1 in /usr/local/lib/python3.10/dist-packages (from anyio<4,>=3.1.0->jupyter-server>=1.8->nbclassic>=0.4.7->notebook>=4.4.1->widgetsnbextension~=3.6.0->ipywidgets) (1.3.1)\n",
            "Requirement already satisfied: exceptiongroup in /usr/local/lib/python3.10/dist-packages (from anyio<4,>=3.1.0->jupyter-server>=1.8->nbclassic>=0.4.7->notebook>=4.4.1->widgetsnbextension~=3.6.0->ipywidgets) (1.2.0)\n",
            "Requirement already satisfied: pycparser in /usr/local/lib/python3.10/dist-packages (from cffi>=1.0.1->argon2-cffi-bindings->argon2-cffi->notebook>=4.4.1->widgetsnbextension~=3.6.0->ipywidgets) (2.21)\n",
            "Installing collected packages: symengine, rustworkx, pbr, jedi, dill, stevedore, qiskit\n",
            "Successfully installed dill-0.3.8 jedi-0.19.1 pbr-6.0.0 qiskit-1.0.1 rustworkx-0.14.1 stevedore-5.2.0 symengine-0.11.0\n"
          ]
        }
      ]
    },
    {
      "cell_type": "code",
      "source": [
        "# Install the Qiskit package, which includes the QuantumCircuit module\n",
        "!pip install QuantumCircuit"
      ],
      "metadata": {
        "colab": {
          "base_uri": "https://localhost:8080/"
        },
        "id": "qQccgVgKHUKm",
        "outputId": "58dee80e-d9b1-45f3-cdc1-3d42e28506c9"
      },
      "execution_count": 2,
      "outputs": [
        {
          "output_type": "stream",
          "name": "stdout",
          "text": [
            "\u001b[31mERROR: Could not find a version that satisfies the requirement QuantumCircuit (from versions: none)\u001b[0m\u001b[31m\n",
            "\u001b[0m\u001b[31mERROR: No matching distribution found for QuantumCircuit\u001b[0m\u001b[31m\n",
            "\u001b[0m"
          ]
        }
      ]
    },
    {
      "cell_type": "code",
      "source": [
        "# Install the Qiskit Aer package for quantum circuit simulation\n",
        "!pip install qiskit-aer"
      ],
      "metadata": {
        "colab": {
          "base_uri": "https://localhost:8080/"
        },
        "id": "bWmGfBarHjsW",
        "outputId": "8a3353a5-d0c8-4003-cbd2-c7a34e10010b"
      },
      "execution_count": 3,
      "outputs": [
        {
          "output_type": "stream",
          "name": "stdout",
          "text": [
            "Collecting qiskit-aer\n",
            "  Downloading qiskit_aer-0.13.3-cp310-cp310-manylinux_2_17_x86_64.manylinux2014_x86_64.whl (12.3 MB)\n",
            "\u001b[2K     \u001b[90m━━━━━━━━━━━━━━━━━━━━━━━━━━━━━━━━━━━━━━━━\u001b[0m \u001b[32m12.3/12.3 MB\u001b[0m \u001b[31m32.0 MB/s\u001b[0m eta \u001b[36m0:00:00\u001b[0m\n",
            "\u001b[?25hRequirement already satisfied: qiskit>=0.45.0 in /usr/local/lib/python3.10/dist-packages (from qiskit-aer) (1.0.1)\n",
            "Requirement already satisfied: numpy>=1.16.3 in /usr/local/lib/python3.10/dist-packages (from qiskit-aer) (1.25.2)\n",
            "Requirement already satisfied: scipy>=1.0 in /usr/local/lib/python3.10/dist-packages (from qiskit-aer) (1.11.4)\n",
            "Requirement already satisfied: psutil>=5 in /usr/local/lib/python3.10/dist-packages (from qiskit-aer) (5.9.5)\n",
            "Requirement already satisfied: rustworkx>=0.14.0 in /usr/local/lib/python3.10/dist-packages (from qiskit>=0.45.0->qiskit-aer) (0.14.1)\n",
            "Requirement already satisfied: sympy>=1.3 in /usr/local/lib/python3.10/dist-packages (from qiskit>=0.45.0->qiskit-aer) (1.12)\n",
            "Requirement already satisfied: dill>=0.3 in /usr/local/lib/python3.10/dist-packages (from qiskit>=0.45.0->qiskit-aer) (0.3.8)\n",
            "Requirement already satisfied: python-dateutil>=2.8.0 in /usr/local/lib/python3.10/dist-packages (from qiskit>=0.45.0->qiskit-aer) (2.8.2)\n",
            "Requirement already satisfied: stevedore>=3.0.0 in /usr/local/lib/python3.10/dist-packages (from qiskit>=0.45.0->qiskit-aer) (5.2.0)\n",
            "Requirement already satisfied: typing-extensions in /usr/local/lib/python3.10/dist-packages (from qiskit>=0.45.0->qiskit-aer) (4.10.0)\n",
            "Requirement already satisfied: symengine>=0.11 in /usr/local/lib/python3.10/dist-packages (from qiskit>=0.45.0->qiskit-aer) (0.11.0)\n",
            "Requirement already satisfied: six>=1.5 in /usr/local/lib/python3.10/dist-packages (from python-dateutil>=2.8.0->qiskit>=0.45.0->qiskit-aer) (1.16.0)\n",
            "Requirement already satisfied: pbr!=2.1.0,>=2.0.0 in /usr/local/lib/python3.10/dist-packages (from stevedore>=3.0.0->qiskit>=0.45.0->qiskit-aer) (6.0.0)\n",
            "Requirement already satisfied: mpmath>=0.19 in /usr/local/lib/python3.10/dist-packages (from sympy>=1.3->qiskit>=0.45.0->qiskit-aer) (1.3.0)\n",
            "Installing collected packages: qiskit-aer\n",
            "Successfully installed qiskit-aer-0.13.3\n"
          ]
        }
      ]
    },
    {
      "cell_type": "markdown",
      "source": [
        "This code snippet installs the Qiskit Aer package, which provides a high-performance simulator for quantum circuits written in Qiskit. Qiskit Aer incorporates realistic noise models to accurately simulate the behavior of quantum circuits on real quantum hardware.\n",
        "\n",
        "By installing Qiskit Aer, you gain access to the following capabilities:\n",
        "\n",
        "    Simulate quantum circuits with noise: Qiskit Aer allows you to simulate quantum circuits with realistic noise models, taking into account the limitations and imperfections of real quantum hardware.\n",
        "\n",
        "    Analyze circuit performance: You can analyze the performance of your quantum circuits by evaluating their output under various noise conditions. This helps you identify potential errors and optimize circuit design for improved accuracy.\n",
        "\n",
        "    Develop and test quantum algorithms: Qiskit Aer provides a valuable tool for developing and testing quantum algorithms without requiring access to actual quantum hardware. This facilitates faster iteration and refinement of quantum algorithms.\n",
        "\n",
        "Installing Qiskit Aer is essential for anyone working with quantum circuits and algorithms, as it enables the simulation and analysis of quantum behavior in a realistic and controlled environment."
      ],
      "metadata": {
        "id": "Iejhiq442-1h"
      }
    },
    {
      "cell_type": "code",
      "source": [
        "def compare_secretnumber_with_counts(secretnumber, counts):\n",
        "    # Ta bort mellanslag från secretnumber för att matcha formatet i counts\n",
        "    formatted_secretnumber = secretnumber.replace(\" \", \"\")\n",
        "\n",
        "    # Extrahera nyckeln från counts (i detta fall finns bara en nyckel eftersom shots=1)\n",
        "    counts_key = next(iter(counts))\n",
        "\n",
        "    # Jämför den formaterade secretnumber med nyckeln från counts\n",
        "    if formatted_secretnumber == counts_key:\n",
        "        print(\"Match found: The secretnumber matches the counts key.\")\n",
        "    else:\n",
        "        print(\"No match: The secretnumber does not match the counts key.\")"
      ],
      "metadata": {
        "id": "nn8P-ZyhZLBP"
      },
      "execution_count": 39,
      "outputs": []
    },
    {
      "cell_type": "code",
      "source": [
        "def string_to_binary(input_string):\n",
        "    binary_string = ' '.join(format(ord(char), '08b') for char in input_string)\n",
        "    return binary_string\n",
        "\n",
        "# Testa funktionen\n",
        "input_string = \"Hej\"\n",
        "binary_string = string_to_binary(input_string)\n",
        "print(f\"Originalsträng: {input_string}\\nBinär representation: {binary_string}\")"
      ],
      "metadata": {
        "colab": {
          "base_uri": "https://localhost:8080/"
        },
        "id": "kKYeBbMdGYXQ",
        "outputId": "85c3fb24-9417-4f45-9c5a-086421fdb279"
      },
      "execution_count": 62,
      "outputs": [
        {
          "output_type": "stream",
          "name": "stdout",
          "text": [
            "Originalsträng: Hej\n",
            "Binär representation: 01001000 01100101 01101010\n"
          ]
        }
      ]
    },
    {
      "cell_type": "code",
      "source": [
        "def binary_to_string(binary_string):\n",
        "    string = ''.join(chr(int(binary, 2)) for binary in binary_string.split(' '))\n",
        "    return string\n",
        "\n",
        "# Testa funktionen\n",
        "recovered_string = binary_to_string(binary_string)\n",
        "print(f\"Binär representation: {binary_string}\\nÅterställd sträng: {recovered_string}\")"
      ],
      "metadata": {
        "colab": {
          "base_uri": "https://localhost:8080/"
        },
        "id": "2vpNecexVz4R",
        "outputId": "6ed8563a-1031-4af3-b5cc-176b69c68142"
      },
      "execution_count": 63,
      "outputs": [
        {
          "output_type": "stream",
          "name": "stdout",
          "text": [
            "Binär representation: 01001000 01100101 01101010\n",
            "Återställd sträng: Hej\n"
          ]
        }
      ]
    },
    {
      "cell_type": "code",
      "source": [
        "# Sets the value for secret number\n",
        "#secretnumber = '110010100011101010'\n",
        "#secretnumber = '01001000 01100101 01101010'\n",
        "#binary_string ='01001000 01100101 01101010'\n",
        "#answer =       '01001000001100101001101010'\n",
        "#                01001000001100101001101010"
      ],
      "metadata": {
        "id": "Sp2xOUA5GN1W"
      },
      "execution_count": 61,
      "outputs": []
    },
    {
      "cell_type": "code",
      "source": [
        "secretnumber = '01001000 01100101 01101010'.replace(\" \", \"\")"
      ],
      "metadata": {
        "id": "yUaGKJQbYmaa"
      },
      "execution_count": 51,
      "outputs": []
    },
    {
      "cell_type": "code",
      "source": [
        "secretnumber"
      ],
      "metadata": {
        "colab": {
          "base_uri": "https://localhost:8080/",
          "height": 35
        },
        "id": "SFmNKm0yY9Gu",
        "outputId": "613c6c1a-18cc-4bb7-a99c-dce0dd32bf9f"
      },
      "execution_count": 52,
      "outputs": [
        {
          "output_type": "execute_result",
          "data": {
            "text/plain": [
              "'010010000110010101101010'"
            ],
            "application/vnd.google.colaboratory.intrinsic+json": {
              "type": "string"
            }
          },
          "metadata": {},
          "execution_count": 52
        }
      ]
    },
    {
      "cell_type": "code",
      "source": [
        "secretnumber = binary_string"
      ],
      "metadata": {
        "id": "8do_InjqYo_-"
      },
      "execution_count": 64,
      "outputs": []
    },
    {
      "cell_type": "code",
      "source": [
        "from qiskit import QuantumCircuit\n",
        "\n",
        "# Define a quantum circuit with the specified number of qubits\n",
        "circuit = QuantumCircuit(len(secretnumber)+1, len(secretnumber))\n",
        "\n",
        "# Prepare the qubits in a superposition state\n",
        "circuit.h(range(len(secretnumber)))\n",
        "\n",
        "# Apply a Hadamard gate to the control qubit\n",
        "circuit.x(len(secretnumber))\n",
        "\n",
        "# Apply another Hadamard gate to the control qubit\n",
        "circuit.h(len(secretnumber))\n",
        "\n",
        "# Insert a barrier to separate operations\n",
        "circuit.barrier()\n",
        "\n",
        "# Iterate through the secret number in reverse order\n",
        "for ii, yesno in enumerate(reversed(secretnumber)):\n",
        "    # If the current bit is a '1', apply a CNOT gate to entangle it with the control qubit\n",
        "    if yesno == '1':\n",
        "        circuit.cx(ii, len(secretnumber))\n",
        "\n",
        "# Insert another barrier to separate operations\n",
        "circuit.barrier()\n",
        "\n",
        "# Apply Hadamard gates to the qubits again\n",
        "circuit.h(range(len(secretnumber)))\n",
        "\n",
        "# Insert a final barrier before measurement\n",
        "circuit.barrier()\n",
        "\n",
        "# Measure all qubits and store the results in the corresponding classical bits\n",
        "circuit.measure(range(len(secretnumber)), range(len(secretnumber)))"
      ],
      "metadata": {
        "colab": {
          "base_uri": "https://localhost:8080/"
        },
        "id": "vZPU1mG2GPj2",
        "outputId": "fa4f5bc8-6589-4250-c3f9-f41beaab4860"
      },
      "execution_count": 65,
      "outputs": [
        {
          "output_type": "execute_result",
          "data": {
            "text/plain": [
              "<qiskit.circuit.instructionset.InstructionSet at 0x7fcad1aa62c0>"
            ]
          },
          "metadata": {},
          "execution_count": 65
        }
      ]
    },
    {
      "cell_type": "markdown",
      "source": [
        "This code defines and implements a quantum circuit designed to encode a secret number using quantum superpositions and entanglements. The circuit consists of several key steps:\n",
        "\n",
        "    Qubit Preparation: The circuit begins by preparing all qubits in a superposition state using Hadamard gates. This puts the qubits in a combination of both 0 and 1 states, allowing them to represent multiple values simultaneously.\n",
        "\n",
        "    Entanglement: The control qubit is entangled with the data qubits using controlled-NOT (CNOT) gates. The CNOT gate flips the state of the target qubit only if the control qubit is in the 1 state. This entangles the qubits, creating a correlation between their states.\n",
        "\n",
        "    Hadamard Gates: Hadamard gates are applied again to the data qubits. This further amplifies the superposition of the data qubits, effectively encoding the secret number in the combined state of the quantum system.\n",
        "\n",
        "    Measurement: Finally, the circuit measures the state of each qubit and stores the result in a corresponding classical bit. This process extracts the encoded secret number from the quantum state.\n",
        "\n",
        "This quantum circuit demonstrates the power of quantum superpositions and entanglements to encode and process information in a way that is fundamentally different from classical computing."
      ],
      "metadata": {
        "id": "02aUJ9SG2xsc"
      }
    },
    {
      "cell_type": "code",
      "source": [
        "# Draw the circuit\n",
        "print(circuit)"
      ],
      "metadata": {
        "colab": {
          "base_uri": "https://localhost:8080/"
        },
        "id": "E76pcIyeGShQ",
        "outputId": "2fcda475-88eb-46c9-dd86-cb7dfc6f748d"
      },
      "execution_count": 66,
      "outputs": [
        {
          "output_type": "stream",
          "name": "stdout",
          "text": [
            "      ┌───┐      ░                                                    ░ ┌───┐»\n",
            " q_0: ┤ H ├──────░────────────────────────────────────────────────────░─┤ H ├»\n",
            "      ├───┤      ░                                                    ░ ├───┤»\n",
            " q_1: ┤ H ├──────░───■────────────────────────────────────────────────░─┤ H ├»\n",
            "      ├───┤      ░   │                                                ░ ├───┤»\n",
            " q_2: ┤ H ├──────░───┼────────────────────────────────────────────────░─┤ H ├»\n",
            "      ├───┤      ░   │                                                ░ ├───┤»\n",
            " q_3: ┤ H ├──────░───┼────■───────────────────────────────────────────░─┤ H ├»\n",
            "      ├───┤      ░   │    │                                           ░ ├───┤»\n",
            " q_4: ┤ H ├──────░───┼────┼───────────────────────────────────────────░─┤ H ├»\n",
            "      ├───┤      ░   │    │                                           ░ ├───┤»\n",
            " q_5: ┤ H ├──────░───┼────┼────■──────────────────────────────────────░─┤ H ├»\n",
            "      ├───┤      ░   │    │    │                                      ░ ├───┤»\n",
            " q_6: ┤ H ├──────░───┼────┼────┼────■─────────────────────────────────░─┤ H ├»\n",
            "      ├───┤      ░   │    │    │    │                                 ░ ├───┤»\n",
            " q_7: ┤ H ├──────░───┼────┼────┼────┼─────────────────────────────────░─┤ H ├»\n",
            "      ├───┤      ░   │    │    │    │                                 ░ ├───┤»\n",
            " q_8: ┤ H ├──────░───┼────┼────┼────┼─────────────────────────────────░─┤ H ├»\n",
            "      ├───┤      ░   │    │    │    │                                 ░ ├───┤»\n",
            " q_9: ┤ H ├──────░───┼────┼────┼────┼────■────────────────────────────░─┤ H ├»\n",
            "      ├───┤      ░   │    │    │    │    │                            ░ ├───┤»\n",
            "q_10: ┤ H ├──────░───┼────┼────┼────┼────┼────────────────────────────░─┤ H ├»\n",
            "      ├───┤      ░   │    │    │    │    │                            ░ ├───┤»\n",
            "q_11: ┤ H ├──────░───┼────┼────┼────┼────┼────■───────────────────────░─┤ H ├»\n",
            "      ├───┤      ░   │    │    │    │    │    │                       ░ ├───┤»\n",
            "q_12: ┤ H ├──────░───┼────┼────┼────┼────┼────┼───────────────────────░─┤ H ├»\n",
            "      ├───┤      ░   │    │    │    │    │    │                       ░ ├───┤»\n",
            "q_13: ┤ H ├──────░───┼────┼────┼────┼────┼────┼───────────────────────░─┤ H ├»\n",
            "      ├───┤      ░   │    │    │    │    │    │                       ░ ├───┤»\n",
            "q_14: ┤ H ├──────░───┼────┼────┼────┼────┼────┼────■──────────────────░─┤ H ├»\n",
            "      ├───┤      ░   │    │    │    │    │    │    │                  ░ ├───┤»\n",
            "q_15: ┤ H ├──────░───┼────┼────┼────┼────┼────┼────┼────■─────────────░─┤ H ├»\n",
            "      ├───┤      ░   │    │    │    │    │    │    │    │             ░ ├───┤»\n",
            "q_16: ┤ H ├──────░───┼────┼────┼────┼────┼────┼────┼────┼─────────────░─┤ H ├»\n",
            "      ├───┤      ░   │    │    │    │    │    │    │    │             ░ ├───┤»\n",
            "q_17: ┤ H ├──────░───┼────┼────┼────┼────┼────┼────┼────┼─────────────░─┤ H ├»\n",
            "      ├───┤      ░   │    │    │    │    │    │    │    │             ░ ├───┤»\n",
            "q_18: ┤ H ├──────░───┼────┼────┼────┼────┼────┼────┼────┼─────────────░─┤ H ├»\n",
            "      ├───┤      ░   │    │    │    │    │    │    │    │             ░ ├───┤»\n",
            "q_19: ┤ H ├──────░───┼────┼────┼────┼────┼────┼────┼────┼─────────────░─┤ H ├»\n",
            "      ├───┤      ░   │    │    │    │    │    │    │    │             ░ ├───┤»\n",
            "q_20: ┤ H ├──────░───┼────┼────┼────┼────┼────┼────┼────┼─────────────░─┤ H ├»\n",
            "      ├───┤      ░   │    │    │    │    │    │    │    │             ░ ├───┤»\n",
            "q_21: ┤ H ├──────░───┼────┼────┼────┼────┼────┼────┼────┼────■────────░─┤ H ├»\n",
            "      ├───┤      ░   │    │    │    │    │    │    │    │    │        ░ ├───┤»\n",
            "q_22: ┤ H ├──────░───┼────┼────┼────┼────┼────┼────┼────┼────┼────────░─┤ H ├»\n",
            "      ├───┤      ░   │    │    │    │    │    │    │    │    │        ░ ├───┤»\n",
            "q_23: ┤ H ├──────░───┼────┼────┼────┼────┼────┼────┼────┼────┼────────░─┤ H ├»\n",
            "      ├───┤      ░   │    │    │    │    │    │    │    │    │        ░ ├───┤»\n",
            "q_24: ┤ H ├──────░───┼────┼────┼────┼────┼────┼────┼────┼────┼────■───░─┤ H ├»\n",
            "      ├───┤      ░   │    │    │    │    │    │    │    │    │    │   ░ ├───┤»\n",
            "q_25: ┤ H ├──────░───┼────┼────┼────┼────┼────┼────┼────┼────┼────┼───░─┤ H ├»\n",
            "      ├───┤┌───┐ ░ ┌─┴─┐┌─┴─┐┌─┴─┐┌─┴─┐┌─┴─┐┌─┴─┐┌─┴─┐┌─┴─┐┌─┴─┐┌─┴─┐ ░ └───┘»\n",
            "q_26: ┤ X ├┤ H ├─░─┤ X ├┤ X ├┤ X ├┤ X ├┤ X ├┤ X ├┤ X ├┤ X ├┤ X ├┤ X ├─░──────»\n",
            "      └───┘└───┘ ░ └───┘└───┘└───┘└───┘└───┘└───┘└───┘└───┘└───┘└───┘ ░      »\n",
            "c: 26/═══════════════════════════════════════════════════════════════════════»\n",
            "                                                                             »\n",
            "«       ░ ┌─┐                                                                  »\n",
            "« q_0: ─░─┤M├──────────────────────────────────────────────────────────────────»\n",
            "«       ░ └╥┘┌─┐                                                               »\n",
            "« q_1: ─░──╫─┤M├───────────────────────────────────────────────────────────────»\n",
            "«       ░  ║ └╥┘┌─┐                                                            »\n",
            "« q_2: ─░──╫──╫─┤M├────────────────────────────────────────────────────────────»\n",
            "«       ░  ║  ║ └╥┘┌─┐                                                         »\n",
            "« q_3: ─░──╫──╫──╫─┤M├─────────────────────────────────────────────────────────»\n",
            "«       ░  ║  ║  ║ └╥┘┌─┐                                                      »\n",
            "« q_4: ─░──╫──╫──╫──╫─┤M├──────────────────────────────────────────────────────»\n",
            "«       ░  ║  ║  ║  ║ └╥┘┌─┐                                                   »\n",
            "« q_5: ─░──╫──╫──╫──╫──╫─┤M├───────────────────────────────────────────────────»\n",
            "«       ░  ║  ║  ║  ║  ║ └╥┘┌─┐                                                »\n",
            "« q_6: ─░──╫──╫──╫──╫──╫──╫─┤M├────────────────────────────────────────────────»\n",
            "«       ░  ║  ║  ║  ║  ║  ║ └╥┘┌─┐                                             »\n",
            "« q_7: ─░──╫──╫──╫──╫──╫──╫──╫─┤M├─────────────────────────────────────────────»\n",
            "«       ░  ║  ║  ║  ║  ║  ║  ║ └╥┘┌─┐                                          »\n",
            "« q_8: ─░──╫──╫──╫──╫──╫──╫──╫──╫─┤M├──────────────────────────────────────────»\n",
            "«       ░  ║  ║  ║  ║  ║  ║  ║  ║ └╥┘┌─┐                                       »\n",
            "« q_9: ─░──╫──╫──╫──╫──╫──╫──╫──╫──╫─┤M├───────────────────────────────────────»\n",
            "«       ░  ║  ║  ║  ║  ║  ║  ║  ║  ║ └╥┘┌─┐                                    »\n",
            "«q_10: ─░──╫──╫──╫──╫──╫──╫──╫──╫──╫──╫─┤M├────────────────────────────────────»\n",
            "«       ░  ║  ║  ║  ║  ║  ║  ║  ║  ║  ║ └╥┘┌─┐                                 »\n",
            "«q_11: ─░──╫──╫──╫──╫──╫──╫──╫──╫──╫──╫──╫─┤M├─────────────────────────────────»\n",
            "«       ░  ║  ║  ║  ║  ║  ║  ║  ║  ║  ║  ║ └╥┘┌─┐                              »\n",
            "«q_12: ─░──╫──╫──╫──╫──╫──╫──╫──╫──╫──╫──╫──╫─┤M├──────────────────────────────»\n",
            "«       ░  ║  ║  ║  ║  ║  ║  ║  ║  ║  ║  ║  ║ └╥┘┌─┐                           »\n",
            "«q_13: ─░──╫──╫──╫──╫──╫──╫──╫──╫──╫──╫──╫──╫──╫─┤M├───────────────────────────»\n",
            "«       ░  ║  ║  ║  ║  ║  ║  ║  ║  ║  ║  ║  ║  ║ └╥┘┌─┐                        »\n",
            "«q_14: ─░──╫──╫──╫──╫──╫──╫──╫──╫──╫──╫──╫──╫──╫──╫─┤M├────────────────────────»\n",
            "«       ░  ║  ║  ║  ║  ║  ║  ║  ║  ║  ║  ║  ║  ║  ║ └╥┘┌─┐                     »\n",
            "«q_15: ─░──╫──╫──╫──╫──╫──╫──╫──╫──╫──╫──╫──╫──╫──╫──╫─┤M├─────────────────────»\n",
            "«       ░  ║  ║  ║  ║  ║  ║  ║  ║  ║  ║  ║  ║  ║  ║  ║ └╥┘┌─┐                  »\n",
            "«q_16: ─░──╫──╫──╫──╫──╫──╫──╫──╫──╫──╫──╫──╫──╫──╫──╫──╫─┤M├──────────────────»\n",
            "«       ░  ║  ║  ║  ║  ║  ║  ║  ║  ║  ║  ║  ║  ║  ║  ║  ║ └╥┘┌─┐               »\n",
            "«q_17: ─░──╫──╫──╫──╫──╫──╫──╫──╫──╫──╫──╫──╫──╫──╫──╫──╫──╫─┤M├───────────────»\n",
            "«       ░  ║  ║  ║  ║  ║  ║  ║  ║  ║  ║  ║  ║  ║  ║  ║  ║  ║ └╥┘┌─┐            »\n",
            "«q_18: ─░──╫──╫──╫──╫──╫──╫──╫──╫──╫──╫──╫──╫──╫──╫──╫──╫──╫──╫─┤M├────────────»\n",
            "«       ░  ║  ║  ║  ║  ║  ║  ║  ║  ║  ║  ║  ║  ║  ║  ║  ║  ║  ║ └╥┘┌─┐         »\n",
            "«q_19: ─░──╫──╫──╫──╫──╫──╫──╫──╫──╫──╫──╫──╫──╫──╫──╫──╫──╫──╫──╫─┤M├─────────»\n",
            "«       ░  ║  ║  ║  ║  ║  ║  ║  ║  ║  ║  ║  ║  ║  ║  ║  ║  ║  ║  ║ └╥┘┌─┐      »\n",
            "«q_20: ─░──╫──╫──╫──╫──╫──╫──╫──╫──╫──╫──╫──╫──╫──╫──╫──╫──╫──╫──╫──╫─┤M├──────»\n",
            "«       ░  ║  ║  ║  ║  ║  ║  ║  ║  ║  ║  ║  ║  ║  ║  ║  ║  ║  ║  ║  ║ └╥┘┌─┐   »\n",
            "«q_21: ─░──╫──╫──╫──╫──╫──╫──╫──╫──╫──╫──╫──╫──╫──╫──╫──╫──╫──╫──╫──╫──╫─┤M├───»\n",
            "«       ░  ║  ║  ║  ║  ║  ║  ║  ║  ║  ║  ║  ║  ║  ║  ║  ║  ║  ║  ║  ║  ║ └╥┘┌─┐»\n",
            "«q_22: ─░──╫──╫──╫──╫──╫──╫──╫──╫──╫──╫──╫──╫──╫──╫──╫──╫──╫──╫──╫──╫──╫──╫─┤M├»\n",
            "«       ░  ║  ║  ║  ║  ║  ║  ║  ║  ║  ║  ║  ║  ║  ║  ║  ║  ║  ║  ║  ║  ║  ║ └╥┘»\n",
            "«q_23: ─░──╫──╫──╫──╫──╫──╫──╫──╫──╫──╫──╫──╫──╫──╫──╫──╫──╫──╫──╫──╫──╫──╫──╫─»\n",
            "«       ░  ║  ║  ║  ║  ║  ║  ║  ║  ║  ║  ║  ║  ║  ║  ║  ║  ║  ║  ║  ║  ║  ║  ║ »\n",
            "«q_24: ─░──╫──╫──╫──╫──╫──╫──╫──╫──╫──╫──╫──╫──╫──╫──╫──╫──╫──╫──╫──╫──╫──╫──╫─»\n",
            "«       ░  ║  ║  ║  ║  ║  ║  ║  ║  ║  ║  ║  ║  ║  ║  ║  ║  ║  ║  ║  ║  ║  ║  ║ »\n",
            "«q_25: ─░──╫──╫──╫──╫──╫──╫──╫──╫──╫──╫──╫──╫──╫──╫──╫──╫──╫──╫──╫──╫──╫──╫──╫─»\n",
            "«       ░  ║  ║  ║  ║  ║  ║  ║  ║  ║  ║  ║  ║  ║  ║  ║  ║  ║  ║  ║  ║  ║  ║  ║ »\n",
            "«q_26: ─░──╫──╫──╫──╫──╫──╫──╫──╫──╫──╫──╫──╫──╫──╫──╫──╫──╫──╫──╫──╫──╫──╫──╫─»\n",
            "«       ░  ║  ║  ║  ║  ║  ║  ║  ║  ║  ║  ║  ║  ║  ║  ║  ║  ║  ║  ║  ║  ║  ║  ║ »\n",
            "«c: 26/════╩══╩══╩══╩══╩══╩══╩══╩══╩══╩══╩══╩══╩══╩══╩══╩══╩══╩══╩══╩══╩══╩══╩═»\n",
            "«          0  1  2  3  4  5  6  7  8  9  10 11 12 13 14 15 16 17 18 19 20 21 22»\n",
            "«               \n",
            "« q_0: ─────────\n",
            "«               \n",
            "« q_1: ─────────\n",
            "«               \n",
            "« q_2: ─────────\n",
            "«               \n",
            "« q_3: ─────────\n",
            "«               \n",
            "« q_4: ─────────\n",
            "«               \n",
            "« q_5: ─────────\n",
            "«               \n",
            "« q_6: ─────────\n",
            "«               \n",
            "« q_7: ─────────\n",
            "«               \n",
            "« q_8: ─────────\n",
            "«               \n",
            "« q_9: ─────────\n",
            "«               \n",
            "«q_10: ─────────\n",
            "«               \n",
            "«q_11: ─────────\n",
            "«               \n",
            "«q_12: ─────────\n",
            "«               \n",
            "«q_13: ─────────\n",
            "«               \n",
            "«q_14: ─────────\n",
            "«               \n",
            "«q_15: ─────────\n",
            "«               \n",
            "«q_16: ─────────\n",
            "«               \n",
            "«q_17: ─────────\n",
            "«               \n",
            "«q_18: ─────────\n",
            "«               \n",
            "«q_19: ─────────\n",
            "«               \n",
            "«q_20: ─────────\n",
            "«               \n",
            "«q_21: ─────────\n",
            "«               \n",
            "«q_22: ─────────\n",
            "«      ┌─┐      \n",
            "«q_23: ┤M├──────\n",
            "«      └╥┘┌─┐   \n",
            "«q_24: ─╫─┤M├───\n",
            "«       ║ └╥┘┌─┐\n",
            "«q_25: ─╫──╫─┤M├\n",
            "«       ║  ║ └╥┘\n",
            "«q_26: ─╫──╫──╫─\n",
            "«       ║  ║  ║ \n",
            "«c: 26/═╩══╩══╩═\n",
            "«       23 24 25\n"
          ]
        }
      ]
    },
    {
      "cell_type": "markdown",
      "source": [
        "This code snippet generates a visual representation of the quantum circuit using the print(circuit) statement. This visualization helps in understanding the structure of the circuit, the placement of gates, and the flow of information between qubits"
      ],
      "metadata": {
        "id": "ySoBffKv367L"
      }
    },
    {
      "cell_type": "code",
      "source": [
        "!pip show qiskit"
      ],
      "metadata": {
        "colab": {
          "base_uri": "https://localhost:8080/"
        },
        "id": "1xxcKDLkUVTr",
        "outputId": "7505fb53-c606-4a82-de3a-b002014c14d8"
      },
      "execution_count": 56,
      "outputs": [
        {
          "output_type": "stream",
          "name": "stdout",
          "text": [
            "Name: qiskit\n",
            "Version: 1.0.1\n",
            "Summary: An open-source SDK for working with quantum computers at the level of extended quantum circuits, operators, and primitives.\n",
            "Home-page: \n",
            "Author: \n",
            "Author-email: Qiskit Development Team <qiskit@us.ibm.com>\n",
            "License: Apache 2.0\n",
            "Location: /usr/local/lib/python3.10/dist-packages\n",
            "Requires: dill, numpy, python-dateutil, rustworkx, scipy, stevedore, symengine, sympy, typing-extensions\n",
            "Required-by: qiskit-aer\n"
          ]
        }
      ]
    },
    {
      "cell_type": "code",
      "source": [
        "from qiskit_aer import Aer, AerSimulator\n",
        "from qiskit import transpile\n",
        "\n",
        "\n",
        "# Skapa en simulator backend för att exekvera kvantkretsen\n",
        "simulator = AerSimulator()  # Använd AerSimulator istället för get_backend\n",
        "\n",
        "# Förbered kretsen för simulatorn med transpile\n",
        "transpiled_circuit = transpile(circuit, simulator)\n",
        "\n",
        "# Kör kretsen på simulatorn, genererar 1 prov\n",
        "job = simulator.run(transpiled_circuit, shots=1)\n",
        "\n",
        "# Vänta på resultatet\n",
        "result = job.result()\n",
        "\n",
        "# Extrahera mätresultaten från simuleringens resultat\n",
        "counts = result.get_counts()\n",
        "\n",
        "# Skriv ut mätresultaten till konsolen\n",
        "print(counts)"
      ],
      "metadata": {
        "colab": {
          "base_uri": "https://localhost:8080/"
        },
        "id": "mAe8shL1NGa6",
        "outputId": "a701d5b9-17d3-43e3-9063-2a1911fa2d44"
      },
      "execution_count": 67,
      "outputs": [
        {
          "output_type": "stream",
          "name": "stdout",
          "text": [
            "{'01001000001100101001101010': 1}\n"
          ]
        }
      ]
    },
    {
      "cell_type": "code",
      "source": [
        "compare_secretnumber_with_counts(secretnumber, counts)"
      ],
      "metadata": {
        "colab": {
          "base_uri": "https://localhost:8080/"
        },
        "id": "C4A0qW2ZZp2a",
        "outputId": "6de18048-878f-4555-9a90-084a40a4f491"
      },
      "execution_count": 68,
      "outputs": [
        {
          "output_type": "stream",
          "name": "stdout",
          "text": [
            "No match: The secretnumber does not match the counts key.\n"
          ]
        }
      ]
    },
    {
      "cell_type": "markdown",
      "source": [
        "This code snippet first creates a simulator backend, which is a software program that simulates the behavior of a quantum computer. The Qiskit Aer library provides various simulator backends, each with different capabilities and performance characteristics. In this case, the 'qasm_simulator' backend is used, which is a high-performance simulator that can simulate a wide range of quantum circuits.\n",
        "\n",
        "The code then executes the quantum circuit on the simulator backend, generating a single sample of measurement results. Each sample represents a possible outcome of the quantum circuit, and the 'shots' parameter specifies the number of samples to generate. In this case, only one sample is generated.\n",
        "\n",
        "Finally, the code extracts the measurement counts from the simulation result and prints them to the console. The measurement counts represent the frequency of different measurement outcomes observed during the simulation. Analyzing these counts provides insights into the behavior of the quantum circuit and the encoded secret number.\n"
      ],
      "metadata": {
        "id": "uxVbwJ8e2lGl"
      }
    }
  ]
}